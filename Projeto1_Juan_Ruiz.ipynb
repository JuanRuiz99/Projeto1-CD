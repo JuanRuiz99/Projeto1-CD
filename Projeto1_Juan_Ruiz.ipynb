{
 "cells": [
  {
   "cell_type": "markdown",
   "metadata": {},
   "source": [
    "Pergunta: De que maneira(s) o número de veículos por pessoa e desemprego afetam o IDH de um país e que relações existem entre os dois primeiros indicadores (se alguma)?"
   ]
  },
  {
   "cell_type": "markdown",
   "metadata": {},
   "source": [
    "Introdução: Este projeto foca nas relações entre dados e informações específicas selecionadas pelo aluno e visa analisar tais ocorrências conjuntas utilizando recursos apropriados para uma interpretação concreta. O primeiro conjunto de dados utilizado é o Índice de Desenvolvimento Humano (IDH) que serve como uma medida comparativa para obter o grau de desenvolvimento de países e classificá-los; baseado em dados econômicos e sociais como longetividade, PIB per capita e educação. A segunda informação analisada é o número de carros, veículos de carga e ônibus por 1000 pessoas em cada país, desconciderando automóveis de duas rodas. Esse tipo de dado é especialmente interessante pois pode refletir bastante sobre a sociedade (cultura) e status econômico de um país, como uma região ou local em que as pessoas costumam andar muito mais de bicicleta em comparação com outros veículos por exemplo. O último conjunto de dados reflete na percentagem da população total de um país, grupo etário acima dos 15 anos, que tenha sido registado como desempregado durante o ano de 2005. Essa informação específica é significativa pois pode também indicar as condições econômicas e sociais de um país. É importante notar que o período em que os dados serão analisados é do ano de 2005. O objetivo principal deste projeto é investigar qualquer correlação que possa existir entre os três elementos mencionados. "
   ]
  },
  {
   "cell_type": "code",
   "execution_count": 46,
   "metadata": {},
   "outputs": [],
   "source": [
    "%matplotlib inline\n",
    "import pandas as pd\n",
    "import numpy as np\n",
    "import math as math\n",
    "from scipy import stats\n",
    "import matplotlib.pyplot as plt"
   ]
  },
  {
   "cell_type": "code",
   "execution_count": 47,
   "metadata": {},
   "outputs": [],
   "source": [
    "HDI = pd.read_excel('hdi_human_development_index.xlsx')\n",
    "Desemprego = pd.read_excel('aged_15plus_unemployment_rate_percent.xlsx')\n",
    "Veiculos = pd.read_excel('cars_trucks_and_buses_per_1000_persons.xlsx')"
   ]
  },
  {
   "cell_type": "code",
   "execution_count": 48,
   "metadata": {},
   "outputs": [],
   "source": [
    "HDI_2005 = HDI.loc[:, ['geo', 2005]]\n",
    "\n",
    "Desemprego_2005 = Desemprego.loc[:, ['geo', 2005]]\n",
    "\n",
    "Veiculos_2005 = Veiculos.loc[:, ['geo', 2005]]\n"
   ]
  },
  {
   "cell_type": "code",
   "execution_count": 49,
   "metadata": {},
   "outputs": [],
   "source": [
    "HDI_idx = HDI_2005.set_index('geo')"
   ]
  },
  {
   "cell_type": "code",
   "execution_count": 50,
   "metadata": {},
   "outputs": [],
   "source": [
    "Desemprego_idx = Desemprego_2005.set_index('geo')"
   ]
  },
  {
   "cell_type": "code",
   "execution_count": 51,
   "metadata": {},
   "outputs": [],
   "source": [
    "Veiculos_idx = Veiculos_2005.set_index('geo')\n",
    "\n",
    "Veiculos_idx = Veiculos_idx.add_suffix(\"_Veiculos\")"
   ]
  },
  {
   "cell_type": "code",
   "execution_count": 52,
   "metadata": {},
   "outputs": [],
   "source": [
    "CD = HDI_idx.join(Desemprego_idx, how='inner', lsuffix='_HDI', rsuffix='_Desemprego')"
   ]
  },
  {
   "cell_type": "code",
   "execution_count": 53,
   "metadata": {},
   "outputs": [
    {
     "data": {
      "text/html": [
       "<div>\n",
       "<style scoped>\n",
       "    .dataframe tbody tr th:only-of-type {\n",
       "        vertical-align: middle;\n",
       "    }\n",
       "\n",
       "    .dataframe tbody tr th {\n",
       "        vertical-align: top;\n",
       "    }\n",
       "\n",
       "    .dataframe thead th {\n",
       "        text-align: right;\n",
       "    }\n",
       "</style>\n",
       "<table border=\"1\" class=\"dataframe\">\n",
       "  <thead>\n",
       "    <tr style=\"text-align: right;\">\n",
       "      <th></th>\n",
       "      <th>2005_HDI</th>\n",
       "      <th>2005_Desemprego</th>\n",
       "      <th>2005_Veiculos</th>\n",
       "    </tr>\n",
       "    <tr>\n",
       "      <th>geo</th>\n",
       "      <th></th>\n",
       "      <th></th>\n",
       "      <th></th>\n",
       "    </tr>\n",
       "  </thead>\n",
       "  <tbody>\n",
       "    <tr>\n",
       "      <th>Australia</th>\n",
       "      <td>0.915</td>\n",
       "      <td>5.1</td>\n",
       "      <td>671.0</td>\n",
       "    </tr>\n",
       "    <tr>\n",
       "      <th>Canada</th>\n",
       "      <td>0.891</td>\n",
       "      <td>6.7</td>\n",
       "      <td>NaN</td>\n",
       "    </tr>\n",
       "    <tr>\n",
       "      <th>Czech Republic</th>\n",
       "      <td>0.847</td>\n",
       "      <td>8.3</td>\n",
       "      <td>NaN</td>\n",
       "    </tr>\n",
       "    <tr>\n",
       "      <th>Estonia</th>\n",
       "      <td>0.822</td>\n",
       "      <td>7.9</td>\n",
       "      <td>477.0</td>\n",
       "    </tr>\n",
       "    <tr>\n",
       "      <th>Finland</th>\n",
       "      <td>0.869</td>\n",
       "      <td>8.3</td>\n",
       "      <td>531.0</td>\n",
       "    </tr>\n",
       "    <tr>\n",
       "      <th>France</th>\n",
       "      <td>0.870</td>\n",
       "      <td>9.9</td>\n",
       "      <td>596.0</td>\n",
       "    </tr>\n",
       "    <tr>\n",
       "      <th>Germany</th>\n",
       "      <td>0.892</td>\n",
       "      <td>11.1</td>\n",
       "      <td>585.0</td>\n",
       "    </tr>\n",
       "    <tr>\n",
       "      <th>Ireland</th>\n",
       "      <td>0.896</td>\n",
       "      <td>4.3</td>\n",
       "      <td>NaN</td>\n",
       "    </tr>\n",
       "    <tr>\n",
       "      <th>Japan</th>\n",
       "      <td>0.873</td>\n",
       "      <td>4.4</td>\n",
       "      <td>NaN</td>\n",
       "    </tr>\n",
       "  </tbody>\n",
       "</table>\n",
       "</div>"
      ],
      "text/plain": [
       "                2005_HDI  2005_Desemprego  2005_Veiculos\n",
       "geo                                                     \n",
       "Australia          0.915              5.1          671.0\n",
       "Canada             0.891              6.7            NaN\n",
       "Czech Republic     0.847              8.3            NaN\n",
       "Estonia            0.822              7.9          477.0\n",
       "Finland            0.869              8.3          531.0\n",
       "France             0.870              9.9          596.0\n",
       "Germany            0.892             11.1          585.0\n",
       "Ireland            0.896              4.3            NaN\n",
       "Japan              0.873              4.4            NaN"
      ]
     },
     "execution_count": 53,
     "metadata": {},
     "output_type": "execute_result"
    }
   ],
   "source": [
    "data = CD.join(Veiculos_idx, how=\"inner\")\n",
    "data.head(9)"
   ]
  },
  {
   "cell_type": "code",
   "execution_count": 54,
   "metadata": {},
   "outputs": [],
   "source": [
    "correlacao = data.corr()"
   ]
  },
  {
   "cell_type": "code",
   "execution_count": 55,
   "metadata": {},
   "outputs": [
    {
     "name": "stdout",
     "output_type": "stream",
     "text": [
      "Ajuste linear entre IDH e desemprego:\n",
      "Coeficiente linear: 24.22802501168596\n",
      "Coeficiente angular: -20.08978998128753\n"
     ]
    }
   ],
   "source": [
    "cov1 = data[\"2005_HDI\"].cov(data[\"2005_Desemprego\"])\n",
    "\n",
    "var_X1 = data[\"2005_HDI\"].var()\n",
    "var_Y1 = data[\"2005_Desemprego\"].var()\n",
    "\n",
    "mX1 = data[\"2005_HDI\"].mean()\n",
    "mY1 = data[\"2005_Desemprego\"].mean()\n",
    "\n",
    "a = cov1 / var_X1\n",
    "b = mY1 - a*mX1\n",
    "\n",
    "print('Ajuste linear entre IDH e desemprego:')\n",
    "print('Coeficiente linear:', b)\n",
    "print('Coeficiente angular:', a)"
   ]
  },
  {
   "cell_type": "code",
   "execution_count": 56,
   "metadata": {},
   "outputs": [
    {
     "name": "stdout",
     "output_type": "stream",
     "text": [
      "Correlação: -0.43046142464024784\n",
      "\n"
     ]
    },
    {
     "data": {
      "image/png": "[encoded data removed]",
      "text/plain": [
       "<Figure size 432x288 with 1 Axes>"
      ]
     },
     "metadata": {},
     "output_type": "display_data"
    }
   ],
   "source": [
    "data.plot.scatter(x = \"2005_HDI\", y = \"2005_Desemprego\")\n",
    "\n",
    "plt.plot((data[\"2005_HDI\"].min(), data[\"2005_HDI\"].max()), \n",
    "         (a*data[\"2005_HDI\"].min() + b, a*data[\"2005_HDI\"].max() + b), color='red')\n",
    "\n",
    "plt.title('IDH versus Desemprego (2005)')\n",
    "plt.xlabel('IDH')\n",
    "plt.ylabel('Desemprego');\n",
    "plt.grid()\n",
    "print('Correlação: {0}\\n'.format(correlacao['2005_Desemprego']['2005_HDI']))"
   ]
  },
  {
   "cell_type": "markdown",
   "metadata": {},
   "source": [
    "Neste \"scatter plot\", pode-se observar que, apesar de existir um padrão decrescente, não existe uma relação explícita entre o IDH de um país e a taxa de desemprego do mesmo. O índice de correlação acima do gráfico, de -0,43, concretiza a afirmação demonstrando um valor baixo de conexão entre os dois dados. "
   ]
  },
  {
   "cell_type": "code",
   "execution_count": 57,
   "metadata": {},
   "outputs": [
    {
     "name": "stdout",
     "output_type": "stream",
     "text": [
      "Ajuste linear entre IDH e número de veículos por 1000 pessoas:\n",
      "Coeficiente linear: -1925.8868015669523\n",
      "Coeficiente angular: 2807.202402226035\n"
     ]
    }
   ],
   "source": [
    "cov2 = data[\"2005_HDI\"].cov(data[\"2005_Veiculos\"])\n",
    "\n",
    "var_X2 = data[\"2005_HDI\"].var()\n",
    "var_Y2 = data[\"2005_Veiculos\"].var()\n",
    "\n",
    "mX2 = data[\"2005_HDI\"].mean()\n",
    "mY2 = data[\"2005_Veiculos\"].mean()\n",
    "\n",
    "c = cov2 / var_X2\n",
    "d = mY2 - c*mX2\n",
    "\n",
    "print('Ajuste linear entre IDH e número de veículos por 1000 pessoas:')\n",
    "print('Coeficiente linear:', d)\n",
    "print('Coeficiente angular:', c)"
   ]
  },
  {
   "cell_type": "code",
   "execution_count": 69,
   "metadata": {},
   "outputs": [
    {
     "name": "stdout",
     "output_type": "stream",
     "text": [
      "Correlação: 0.845632608296055\n",
      "\n"
     ]
    },
    {
     "data": {
      "image/png": "[encoded data removed]",
      "text/plain": [
       "<Figure size 432x288 with 1 Axes>"
      ]
     },
     "metadata": {},
     "output_type": "display_data"
    }
   ],
   "source": [
    "data.plot.scatter(x = \"2005_HDI\", y = \"2005_Veiculos\")\n",
    "\n",
    "plt.plot((data[\"2005_HDI\"].min(), data[\"2005_HDI\"].max()), \n",
    "         (c*data[\"2005_HDI\"].min() + d, c*data[\"2005_HDI\"].max() + d), color='red')\n",
    "\n",
    "plt.title('IDH versus Veículos (2005)')\n",
    "plt.xlabel('IDH')\n",
    "plt.ylabel('Veículos');\n",
    "plt.grid()\n",
    "print('Correlação: {0}\\n'.format(correlacao['2005_Veiculos']['2005_HDI']))"
   ]
  },
  {
   "cell_type": "code",
   "execution_count": 59,
   "metadata": {},
   "outputs": [
    {
     "data": {
      "text/html": [
       "<div>\n",
       "<style scoped>\n",
       "    .dataframe tbody tr th:only-of-type {\n",
       "        vertical-align: middle;\n",
       "    }\n",
       "\n",
       "    .dataframe tbody tr th {\n",
       "        vertical-align: top;\n",
       "    }\n",
       "\n",
       "    .dataframe thead th {\n",
       "        text-align: right;\n",
       "    }\n",
       "</style>\n",
       "<table border=\"1\" class=\"dataframe\">\n",
       "  <thead>\n",
       "    <tr style=\"text-align: right;\">\n",
       "      <th></th>\n",
       "      <th>2005_HDI</th>\n",
       "      <th>2005_Veiculos</th>\n",
       "    </tr>\n",
       "    <tr>\n",
       "      <th>geo</th>\n",
       "      <th></th>\n",
       "      <th></th>\n",
       "    </tr>\n",
       "  </thead>\n",
       "  <tbody>\n",
       "    <tr>\n",
       "      <th>Philippines</th>\n",
       "      <td>0.646</td>\n",
       "      <td>34.0</td>\n",
       "    </tr>\n",
       "    <tr>\n",
       "      <th>Turkey</th>\n",
       "      <td>0.687</td>\n",
       "      <td>117.0</td>\n",
       "    </tr>\n",
       "    <tr>\n",
       "      <th>Singapore</th>\n",
       "      <td>0.839</td>\n",
       "      <td>137.0</td>\n",
       "    </tr>\n",
       "    <tr>\n",
       "      <th>Romania</th>\n",
       "      <td>0.755</td>\n",
       "      <td>181.0</td>\n",
       "    </tr>\n",
       "  </tbody>\n",
       "</table>\n",
       "</div>"
      ],
      "text/plain": [
       "             2005_HDI  2005_Veiculos\n",
       "geo                                 \n",
       "Philippines     0.646           34.0\n",
       "Turkey          0.687          117.0\n",
       "Singapore       0.839          137.0\n",
       "Romania         0.755          181.0"
      ]
     },
     "execution_count": 59,
     "metadata": {},
     "output_type": "execute_result"
    }
   ],
   "source": [
    "outlier = (data['2005_HDI']<0.85) & (data['2005_Veiculos']<200)\n",
    "data.loc[outlier, [\"2005_HDI\", \"2005_Veiculos\"]].sort_values(by='2005_Veiculos')\n",
    "##Analisar o país com o maior IDH entre os quatro##"
   ]
  },
  {
   "cell_type": "markdown",
   "metadata": {},
   "source": [
    "Diferentemente do gráfico anterior, este \"scatter plot\" demonstra uma correlação forte entre o Índice de Desenvolvimento Humano e o número de veículos por 1000 pessoas nos diferentes países. Pode-se analisar uma tendência crescente entre os pontos com um alto valor de correlação de 0,846. Apesar desta correspondência entre os dados, é importante detectar e analisar a existência de um \"outlier\", que, através de um método de filtração de dados, foi encontrado como Cingapura. Partindo desta informação, uma pesquisa foi feita para descobrir os motivos por trás desta \"anomalia\". Foi encontrado, através do uso dos sites \"CostPenguin\" e \"Dollars and Sense\", que é extremamente caro possuir um carro ou qualquer automóvel em Cingapura. Somente cinco fatores explicão o alto investimento que os cidadões fazem em transporte: valor de Mercado Aberto, taxa de inscrição adicional, imposto de consumo, certificado de titularidade e margem dos revendedores. Com essas informações é possivel entender a razão por trás da baixa faixa de veículos em relação ao IDH; como o artigo do \"Dollars and Sense\" colocou brilhantemente: \"Em Cingapura, não existe um bom negócio de carro que faça sentido financeiro.\"\n"
   ]
  },
  {
   "cell_type": "code",
   "execution_count": 60,
   "metadata": {},
   "outputs": [
    {
     "name": "stdout",
     "output_type": "stream",
     "text": [
      "Ajuste linear entre desemprego e número de veículos por 1000 pessoas:\n",
      "Coeficiente linear: 593.5307813377182\n",
      "Coeficiente angular: -20.280107770719752\n"
     ]
    }
   ],
   "source": [
    "cov3 = data[\"2005_Desemprego\"].cov(data[\"2005_Veiculos\"])\n",
    "\n",
    "var_X3 = data[\"2005_Desemprego\"].var()\n",
    "var_Y3 = data[\"2005_Veiculos\"].var()\n",
    "\n",
    "mX3 = data[\"2005_Desemprego\"].mean()\n",
    "mY3 = data[\"2005_Veiculos\"].mean()\n",
    "\n",
    "e = cov3 / var_X3\n",
    "f = mY3 - e*mX3\n",
    "\n",
    "print('Ajuste linear entre desemprego e número de veículos por 1000 pessoas:')\n",
    "print('Coeficiente linear:', f)\n",
    "print('Coeficiente angular:', e)"
   ]
  },
  {
   "cell_type": "code",
   "execution_count": 61,
   "metadata": {
    "scrolled": false
   },
   "outputs": [
    {
     "name": "stdout",
     "output_type": "stream",
     "text": [
      "Correlação: -0.29579884325481853\n",
      "\n"
     ]
    },
    {
     "data": {
      "image/png": "[encoded data removed]",
      "text/plain": [
       "<Figure size 432x288 with 1 Axes>"
      ]
     },
     "metadata": {},
     "output_type": "display_data"
    }
   ],
   "source": [
    "data.plot.scatter(x = \"2005_Desemprego\", y = \"2005_Veiculos\")\n",
    "\n",
    "plt.plot((data[\"2005_Desemprego\"].min(), data[\"2005_Desemprego\"].max()), \n",
    "         (e*data[\"2005_Desemprego\"].min() + f, e*data[\"2005_Desemprego\"].max() + f), color='red')\n",
    "\n",
    "plt.title('Desemprego versus Veículos (2005)')\n",
    "plt.xlabel('Desemprego')\n",
    "plt.ylabel('Veículos');\n",
    "plt.grid()\n",
    "print('Correlação: {0}\\n'.format(correlacao['2005_Desemprego']['2005_Veiculos']))"
   ]
  },
  {
   "cell_type": "markdown",
   "metadata": {},
   "source": [
    "Assim como o primeiro \"scatter plot\", este gráfico não disponibiliza nenhuma informação perceptível entre as taxas de veículos e desemprego de um país, obtendo um valor de correlação de -0,296. "
   ]
  },
  {
   "cell_type": "code",
   "execution_count": 62,
   "metadata": {},
   "outputs": [
    {
     "data": {
      "text/plain": [
       "count     20.000000\n",
       "mean     446.500000\n",
       "std      196.705631\n",
       "min       34.000000\n",
       "25%      362.500000\n",
       "50%      515.000000\n",
       "75%      568.500000\n",
       "max      720.000000\n",
       "Name: 2005_Veiculos, dtype: float64"
      ]
     },
     "execution_count": 62,
     "metadata": {},
     "output_type": "execute_result"
    },
    {
     "data": {
      "image/png": "[encoded data removed]",
      "text/plain": [
       "<Figure size 432x288 with 1 Axes>"
      ]
     },
     "metadata": {},
     "output_type": "display_data"
    }
   ],
   "source": [
    "data[\"2005_Veiculos\"].plot.box()\n",
    "plt.title('Veículos (2005)')\n",
    "data[\"2005_Veiculos\"].describe()"
   ]
  },
  {
   "cell_type": "code",
   "execution_count": 68,
   "metadata": {},
   "outputs": [
    {
     "data": {
      "image/png": "[encoded data removed]",
      "text/plain": [
       "<Figure size 432x288 with 1 Axes>"
      ]
     },
     "metadata": {},
     "output_type": "display_data"
    }
   ],
   "source": [
    "data[\"2005_Veiculos\"].plot(kind='hist', density=True);\n",
    "plt.title('Frequência de Veículos por 1000 pessoas (2005)')\n",
    "plt.grid()"
   ]
  },
  {
   "cell_type": "markdown",
   "metadata": {},
   "source": [
    "Usando o histograma criado, é possível analisar que existe uma frequência maior de veículos do lado direito, fazendo com que a mediana se desloque para a direita. No boxplot, pode-se observar o mesmo, que existe uma disperção menor no terceiro quartil, também alterando a mediana para cima (maior número de veículos com quatro rodas por 1000 pessoas)."
   ]
  },
  {
   "cell_type": "code",
   "execution_count": 66,
   "metadata": {},
   "outputs": [
    {
     "data": {
      "text/plain": [
       "count    26.00000\n",
       "mean      7.25000\n",
       "std       3.02526\n",
       "min       3.70000\n",
       "25%       4.72500\n",
       "50%       7.55000\n",
       "75%       8.30000\n",
       "max      17.70000\n",
       "Name: 2005_Desemprego, dtype: float64"
      ]
     },
     "execution_count": 66,
     "metadata": {},
     "output_type": "execute_result"
    },
    {
     "data": {
      "image/png": "[encoded data removed]",
      "text/plain": [
       "<Figure size 432x288 with 1 Axes>"
      ]
     },
     "metadata": {},
     "output_type": "display_data"
    }
   ],
   "source": [
    "data[\"2005_Desemprego\"].plot.box()\n",
    "data[\"2005_Desemprego\"].describe()"
   ]
  },
  {
   "cell_type": "code",
   "execution_count": 67,
   "metadata": {},
   "outputs": [
    {
     "data": {
      "image/png": "[encoded data removed]",
      "text/plain": [
       "<Figure size 432x288 with 1 Axes>"
      ]
     },
     "metadata": {},
     "output_type": "display_data"
    }
   ],
   "source": [
    "data[\"2005_Desemprego\"].plot(kind='hist', density=True);\n",
    "plt.grid()"
   ]
  },
  {
   "cell_type": "markdown",
   "metadata": {},
   "source": [
    "Similarmente à analise acima, o boxplot demonstra uma disperção menor e uma mediana mais elevada, enquanto o histograma afirma uma frequência maior em taxas menores de desemprego, fazendo a mediana tender a esquerda do gráfico."
   ]
  },
  {
   "cell_type": "markdown",
   "metadata": {},
   "source": [
    "Conclusão: Em conclusão, é possível se dizer, utilizando o gráfico \"IDH versus Veículos\", que existe uma correlação forte entre o Índice de Desenvolvimento Humano e o número de veículos automotivos de quatro rodas por 1000 pessoas. Tal resultado indica que quanto mais alto o IDH de um país, maior o número de veículos (por 1000 pessoas). Em relação aos scatter plots \"IDH versus Desemprego\" e \"Desemprego versus Veículos\", pode-se concluir que não existe nenhuma conexão concreta entre os índices, enfatizada pelos valores de correlação baixos que os gráficos demonstraram. O boxplot e histograma criados para analisar os índices de veículos por 1000 pessoas indicam que, dos países analisados, existem mais regiões que possuem mais automóveis do que a média. O segundo \"set\" de gráficos, que investiga o desemprego, valida o fato de que existe uma taxa menor de desemprego na maior parte dos países analisados em 2005. "
   ]
  },
  {
   "cell_type": "code",
   "execution_count": null,
   "metadata": {},
   "outputs": [],
   "source": []
  }
 ],
 "metadata": {
  "kernelspec": {
   "display_name": "Python 3",
   "language": "python",
   "name": "python3"
  },
  "language_info": {
   "codemirror_mode": {
    "name": "ipython",
    "version": 3
   },
   "file_extension": ".py",
   "mimetype": "text/x-python",
   "name": "python",
   "nbconvert_exporter": "python",
   "pygments_lexer": "ipython3",
   "version": "3.6.5"
  }
 },
 "nbformat": 4,
 "nbformat_minor": 2
}
